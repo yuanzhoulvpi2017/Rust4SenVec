{
 "cells": [
  {
   "cell_type": "code",
   "execution_count": 1,
   "metadata": {
    "collapsed": false
   },
   "outputs": [],
   "source": [
    "from transformers import BertModel, BertTokenizer, BertConfig\n",
    "import torch\n",
    "from typing import Tuple, Optional, List\n",
    "from torch import nn\n",
    "from transformers import BertPreTrainedModel\n",
    "import os\n",
    "\n",
    "os.makedirs(name=\"nlp_model\", exist_ok=True)\n",
    "\n",
    "# os.environ[\"KMP_DUPLICATE_LIB_OK\"]=\"TRUE\""
   ]
  },
  {
   "cell_type": "markdown",
   "metadata": {
    "collapsed": false
   },
   "source": [
    "### step1.  load bert model (such as tokenizer a text, and get tokens_tenosr, segements)\n"
   ]
  },
  {
   "cell_type": "code",
   "execution_count": 2,
   "metadata": {
    "collapsed": false
   },
   "outputs": [],
   "source": [
    "enc = BertTokenizer.from_pretrained(\"bert-base-uncased\")\n",
    "\n",
    "# Tokenizing input text\n",
    "text = \"[CLS] Who was Jim Henson ? [SEP] Jim Henson was a puppeteer [SEP]\"\n",
    "tokenized_text = enc.tokenize(text)\n",
    "\n",
    "# Masking one of the input tokens\n",
    "masked_index = 8\n",
    "tokenized_text[masked_index] = '[MASK]'\n",
    "indexed_tokens = enc.convert_tokens_to_ids(tokenized_text)\n",
    "segments_ids = [0, 0, 0, 0, 0, 0, 0, 1, 1, 1, 1, 1, 1, 1]\n",
    "\n",
    "# Creating a dummy input\n",
    "tokens_tensor = torch.tensor([indexed_tokens])\n",
    "segments_tensors = torch.tensor([segments_ids])\n",
    "dummy_input = [tokens_tensor, segments_tensors]\n"
   ]
  },
  {
   "cell_type": "code",
   "execution_count": 9,
   "metadata": {},
   "outputs": [
    {
     "data": {
      "text/plain": [
       "tensor([[  101,  2040,  2001,  3958, 27227,  1029,   102,  3958,   103,  2001,\n",
       "          1037, 13997, 11510,   102]])"
      ]
     },
     "execution_count": 9,
     "metadata": {},
     "output_type": "execute_result"
    }
   ],
   "source": [
    "tokens_tensor"
   ]
  },
  {
   "cell_type": "code",
   "execution_count": 10,
   "metadata": {},
   "outputs": [
    {
     "data": {
      "text/plain": [
       "[0, 0, 0, 0, 0, 0, 0, 1, 1, 1, 1, 1, 1, 1]"
      ]
     },
     "execution_count": 10,
     "metadata": {},
     "output_type": "execute_result"
    }
   ],
   "source": [
    "segments_ids"
   ]
  },
  {
   "cell_type": "markdown",
   "metadata": {
    "collapsed": false
   },
   "source": [
    "### step2.  costom my bert model"
   ]
  },
  {
   "cell_type": "code",
   "execution_count": 3,
   "metadata": {
    "collapsed": true
   },
   "outputs": [],
   "source": [
    "\n",
    "class Mybert4Sentence(BertPreTrainedModel):\n",
    "    # copy code from  class BertForSequenceClassification(BertPreTrainedModel):\n",
    "    def __init__(self, config):\n",
    "        super().__init__(config)\n",
    "        self.num_labels = config.num_labels\n",
    "        self.config = config\n",
    "\n",
    "        self.bert = BertModel(config)\n",
    "        classifier_dropout = (\n",
    "            config.classifier_dropout if config.classifier_dropout is not None else config.hidden_dropout_prob\n",
    "        )\n",
    "        self.dropout = nn.Dropout(classifier_dropout)\n",
    "        self.classifier = nn.Linear(config.hidden_size, config.num_labels)\n",
    "\n",
    "        # Initialize weights and apply final processing\n",
    "        self.post_init()\n",
    "\n",
    "    def forward(\n",
    "            self,\n",
    "            input_ids: Optional[torch.Tensor] = None,\n",
    "            attention_mask: Optional[torch.Tensor] = None,\n",
    "            token_type_ids: Optional[torch.Tensor] = None,\n",
    "            position_ids: Optional[torch.Tensor] = None,\n",
    "            head_mask: Optional[torch.Tensor] = None,\n",
    "            inputs_embeds: Optional[torch.Tensor] = None,\n",
    "            labels: Optional[torch.Tensor] = None,\n",
    "            output_attentions: Optional[bool] = None,\n",
    "            output_hidden_states: Optional[bool] = None,\n",
    "            return_dict: Optional[bool] = None,\n",
    "    ) -> torch.Tensor:\n",
    "        return_dict = return_dict if return_dict is not None else self.config.use_return_dict\n",
    "\n",
    "        outputs = self.bert(\n",
    "            input_ids,\n",
    "            attention_mask=attention_mask,\n",
    "            token_type_ids=token_type_ids,\n",
    "            position_ids=position_ids,\n",
    "            head_mask=head_mask,\n",
    "            inputs_embeds=inputs_embeds,\n",
    "            output_attentions=output_attentions,\n",
    "            output_hidden_states=output_hidden_states,\n",
    "            return_dict=return_dict,\n",
    "        )\n",
    "\n",
    "        pooled_output = outputs[1]\n",
    "\n",
    "        return pooled_output\n"
   ]
  },
  {
   "cell_type": "markdown",
   "metadata": {
    "collapsed": false
   },
   "source": [
    "### step3. load model and save model to .pt file"
   ]
  },
  {
   "cell_type": "code",
   "execution_count": 4,
   "metadata": {
    "collapsed": false
   },
   "outputs": [
    {
     "name": "stderr",
     "output_type": "stream",
     "text": [
      "Some weights of the model checkpoint at bert-base-uncased were not used when initializing Mybert4Sentence: ['cls.predictions.transform.dense.weight', 'cls.predictions.transform.LayerNorm.weight', 'cls.predictions.bias', 'cls.seq_relationship.bias', 'cls.predictions.decoder.weight', 'cls.predictions.transform.dense.bias', 'cls.seq_relationship.weight', 'cls.predictions.transform.LayerNorm.bias']\n",
      "- This IS expected if you are initializing Mybert4Sentence from the checkpoint of a model trained on another task or with another architecture (e.g. initializing a BertForSequenceClassification model from a BertForPreTraining model).\n",
      "- This IS NOT expected if you are initializing Mybert4Sentence from the checkpoint of a model that you expect to be exactly identical (initializing a BertForSequenceClassification model from a BertForSequenceClassification model).\n",
      "Some weights of Mybert4Sentence were not initialized from the model checkpoint at bert-base-uncased and are newly initialized: ['classifier.weight', 'classifier.bias']\n",
      "You should probably TRAIN this model on a down-stream task to be able to use it for predictions and inference.\n"
     ]
    }
   ],
   "source": [
    "model2 = Mybert4Sentence.from_pretrained(\"bert-base-uncased\", torchscript=True)"
   ]
  },
  {
   "cell_type": "code",
   "execution_count": 5,
   "metadata": {},
   "outputs": [],
   "source": [
    "traced_model = torch.jit.trace(model2, [tokens_tensor, segments_tensors])\n",
    "torch.jit.save(traced_model, \"nlp_model/traced_bert.pt\")"
   ]
  },
  {
   "cell_type": "markdown",
   "metadata": {
    "collapsed": false
   },
   "source": [
    "### step4. load .pt file then check it"
   ]
  },
  {
   "cell_type": "code",
   "execution_count": 6,
   "metadata": {
    "collapsed": false
   },
   "outputs": [
    {
     "data": {
      "text/plain": [
       "RecursiveScriptModule(\n",
       "  original_name=Mybert4Sentence\n",
       "  (bert): RecursiveScriptModule(\n",
       "    original_name=BertModel\n",
       "    (embeddings): RecursiveScriptModule(\n",
       "      original_name=BertEmbeddings\n",
       "      (word_embeddings): RecursiveScriptModule(original_name=Embedding)\n",
       "      (position_embeddings): RecursiveScriptModule(original_name=Embedding)\n",
       "      (token_type_embeddings): RecursiveScriptModule(original_name=Embedding)\n",
       "      (LayerNorm): RecursiveScriptModule(original_name=LayerNorm)\n",
       "      (dropout): RecursiveScriptModule(original_name=Dropout)\n",
       "    )\n",
       "    (encoder): RecursiveScriptModule(\n",
       "      original_name=BertEncoder\n",
       "      (layer): RecursiveScriptModule(\n",
       "        original_name=ModuleList\n",
       "        (0): RecursiveScriptModule(\n",
       "          original_name=BertLayer\n",
       "          (attention): RecursiveScriptModule(\n",
       "            original_name=BertAttention\n",
       "            (self): RecursiveScriptModule(\n",
       "              original_name=BertSelfAttention\n",
       "              (query): RecursiveScriptModule(original_name=Linear)\n",
       "              (key): RecursiveScriptModule(original_name=Linear)\n",
       "              (value): RecursiveScriptModule(original_name=Linear)\n",
       "              (dropout): RecursiveScriptModule(original_name=Dropout)\n",
       "            )\n",
       "            (output): RecursiveScriptModule(\n",
       "              original_name=BertSelfOutput\n",
       "              (dense): RecursiveScriptModule(original_name=Linear)\n",
       "              (LayerNorm): RecursiveScriptModule(original_name=LayerNorm)\n",
       "              (dropout): RecursiveScriptModule(original_name=Dropout)\n",
       "            )\n",
       "          )\n",
       "          (intermediate): RecursiveScriptModule(\n",
       "            original_name=BertIntermediate\n",
       "            (dense): RecursiveScriptModule(original_name=Linear)\n",
       "            (intermediate_act_fn): RecursiveScriptModule(original_name=GELUActivation)\n",
       "          )\n",
       "          (output): RecursiveScriptModule(\n",
       "            original_name=BertOutput\n",
       "            (dense): RecursiveScriptModule(original_name=Linear)\n",
       "            (LayerNorm): RecursiveScriptModule(original_name=LayerNorm)\n",
       "            (dropout): RecursiveScriptModule(original_name=Dropout)\n",
       "          )\n",
       "        )\n",
       "        (1): RecursiveScriptModule(\n",
       "          original_name=BertLayer\n",
       "          (attention): RecursiveScriptModule(\n",
       "            original_name=BertAttention\n",
       "            (self): RecursiveScriptModule(\n",
       "              original_name=BertSelfAttention\n",
       "              (query): RecursiveScriptModule(original_name=Linear)\n",
       "              (key): RecursiveScriptModule(original_name=Linear)\n",
       "              (value): RecursiveScriptModule(original_name=Linear)\n",
       "              (dropout): RecursiveScriptModule(original_name=Dropout)\n",
       "            )\n",
       "            (output): RecursiveScriptModule(\n",
       "              original_name=BertSelfOutput\n",
       "              (dense): RecursiveScriptModule(original_name=Linear)\n",
       "              (LayerNorm): RecursiveScriptModule(original_name=LayerNorm)\n",
       "              (dropout): RecursiveScriptModule(original_name=Dropout)\n",
       "            )\n",
       "          )\n",
       "          (intermediate): RecursiveScriptModule(\n",
       "            original_name=BertIntermediate\n",
       "            (dense): RecursiveScriptModule(original_name=Linear)\n",
       "            (intermediate_act_fn): RecursiveScriptModule(original_name=GELUActivation)\n",
       "          )\n",
       "          (output): RecursiveScriptModule(\n",
       "            original_name=BertOutput\n",
       "            (dense): RecursiveScriptModule(original_name=Linear)\n",
       "            (LayerNorm): RecursiveScriptModule(original_name=LayerNorm)\n",
       "            (dropout): RecursiveScriptModule(original_name=Dropout)\n",
       "          )\n",
       "        )\n",
       "        (2): RecursiveScriptModule(\n",
       "          original_name=BertLayer\n",
       "          (attention): RecursiveScriptModule(\n",
       "            original_name=BertAttention\n",
       "            (self): RecursiveScriptModule(\n",
       "              original_name=BertSelfAttention\n",
       "              (query): RecursiveScriptModule(original_name=Linear)\n",
       "              (key): RecursiveScriptModule(original_name=Linear)\n",
       "              (value): RecursiveScriptModule(original_name=Linear)\n",
       "              (dropout): RecursiveScriptModule(original_name=Dropout)\n",
       "            )\n",
       "            (output): RecursiveScriptModule(\n",
       "              original_name=BertSelfOutput\n",
       "              (dense): RecursiveScriptModule(original_name=Linear)\n",
       "              (LayerNorm): RecursiveScriptModule(original_name=LayerNorm)\n",
       "              (dropout): RecursiveScriptModule(original_name=Dropout)\n",
       "            )\n",
       "          )\n",
       "          (intermediate): RecursiveScriptModule(\n",
       "            original_name=BertIntermediate\n",
       "            (dense): RecursiveScriptModule(original_name=Linear)\n",
       "            (intermediate_act_fn): RecursiveScriptModule(original_name=GELUActivation)\n",
       "          )\n",
       "          (output): RecursiveScriptModule(\n",
       "            original_name=BertOutput\n",
       "            (dense): RecursiveScriptModule(original_name=Linear)\n",
       "            (LayerNorm): RecursiveScriptModule(original_name=LayerNorm)\n",
       "            (dropout): RecursiveScriptModule(original_name=Dropout)\n",
       "          )\n",
       "        )\n",
       "        (3): RecursiveScriptModule(\n",
       "          original_name=BertLayer\n",
       "          (attention): RecursiveScriptModule(\n",
       "            original_name=BertAttention\n",
       "            (self): RecursiveScriptModule(\n",
       "              original_name=BertSelfAttention\n",
       "              (query): RecursiveScriptModule(original_name=Linear)\n",
       "              (key): RecursiveScriptModule(original_name=Linear)\n",
       "              (value): RecursiveScriptModule(original_name=Linear)\n",
       "              (dropout): RecursiveScriptModule(original_name=Dropout)\n",
       "            )\n",
       "            (output): RecursiveScriptModule(\n",
       "              original_name=BertSelfOutput\n",
       "              (dense): RecursiveScriptModule(original_name=Linear)\n",
       "              (LayerNorm): RecursiveScriptModule(original_name=LayerNorm)\n",
       "              (dropout): RecursiveScriptModule(original_name=Dropout)\n",
       "            )\n",
       "          )\n",
       "          (intermediate): RecursiveScriptModule(\n",
       "            original_name=BertIntermediate\n",
       "            (dense): RecursiveScriptModule(original_name=Linear)\n",
       "            (intermediate_act_fn): RecursiveScriptModule(original_name=GELUActivation)\n",
       "          )\n",
       "          (output): RecursiveScriptModule(\n",
       "            original_name=BertOutput\n",
       "            (dense): RecursiveScriptModule(original_name=Linear)\n",
       "            (LayerNorm): RecursiveScriptModule(original_name=LayerNorm)\n",
       "            (dropout): RecursiveScriptModule(original_name=Dropout)\n",
       "          )\n",
       "        )\n",
       "        (4): RecursiveScriptModule(\n",
       "          original_name=BertLayer\n",
       "          (attention): RecursiveScriptModule(\n",
       "            original_name=BertAttention\n",
       "            (self): RecursiveScriptModule(\n",
       "              original_name=BertSelfAttention\n",
       "              (query): RecursiveScriptModule(original_name=Linear)\n",
       "              (key): RecursiveScriptModule(original_name=Linear)\n",
       "              (value): RecursiveScriptModule(original_name=Linear)\n",
       "              (dropout): RecursiveScriptModule(original_name=Dropout)\n",
       "            )\n",
       "            (output): RecursiveScriptModule(\n",
       "              original_name=BertSelfOutput\n",
       "              (dense): RecursiveScriptModule(original_name=Linear)\n",
       "              (LayerNorm): RecursiveScriptModule(original_name=LayerNorm)\n",
       "              (dropout): RecursiveScriptModule(original_name=Dropout)\n",
       "            )\n",
       "          )\n",
       "          (intermediate): RecursiveScriptModule(\n",
       "            original_name=BertIntermediate\n",
       "            (dense): RecursiveScriptModule(original_name=Linear)\n",
       "            (intermediate_act_fn): RecursiveScriptModule(original_name=GELUActivation)\n",
       "          )\n",
       "          (output): RecursiveScriptModule(\n",
       "            original_name=BertOutput\n",
       "            (dense): RecursiveScriptModule(original_name=Linear)\n",
       "            (LayerNorm): RecursiveScriptModule(original_name=LayerNorm)\n",
       "            (dropout): RecursiveScriptModule(original_name=Dropout)\n",
       "          )\n",
       "        )\n",
       "        (5): RecursiveScriptModule(\n",
       "          original_name=BertLayer\n",
       "          (attention): RecursiveScriptModule(\n",
       "            original_name=BertAttention\n",
       "            (self): RecursiveScriptModule(\n",
       "              original_name=BertSelfAttention\n",
       "              (query): RecursiveScriptModule(original_name=Linear)\n",
       "              (key): RecursiveScriptModule(original_name=Linear)\n",
       "              (value): RecursiveScriptModule(original_name=Linear)\n",
       "              (dropout): RecursiveScriptModule(original_name=Dropout)\n",
       "            )\n",
       "            (output): RecursiveScriptModule(\n",
       "              original_name=BertSelfOutput\n",
       "              (dense): RecursiveScriptModule(original_name=Linear)\n",
       "              (LayerNorm): RecursiveScriptModule(original_name=LayerNorm)\n",
       "              (dropout): RecursiveScriptModule(original_name=Dropout)\n",
       "            )\n",
       "          )\n",
       "          (intermediate): RecursiveScriptModule(\n",
       "            original_name=BertIntermediate\n",
       "            (dense): RecursiveScriptModule(original_name=Linear)\n",
       "            (intermediate_act_fn): RecursiveScriptModule(original_name=GELUActivation)\n",
       "          )\n",
       "          (output): RecursiveScriptModule(\n",
       "            original_name=BertOutput\n",
       "            (dense): RecursiveScriptModule(original_name=Linear)\n",
       "            (LayerNorm): RecursiveScriptModule(original_name=LayerNorm)\n",
       "            (dropout): RecursiveScriptModule(original_name=Dropout)\n",
       "          )\n",
       "        )\n",
       "        (6): RecursiveScriptModule(\n",
       "          original_name=BertLayer\n",
       "          (attention): RecursiveScriptModule(\n",
       "            original_name=BertAttention\n",
       "            (self): RecursiveScriptModule(\n",
       "              original_name=BertSelfAttention\n",
       "              (query): RecursiveScriptModule(original_name=Linear)\n",
       "              (key): RecursiveScriptModule(original_name=Linear)\n",
       "              (value): RecursiveScriptModule(original_name=Linear)\n",
       "              (dropout): RecursiveScriptModule(original_name=Dropout)\n",
       "            )\n",
       "            (output): RecursiveScriptModule(\n",
       "              original_name=BertSelfOutput\n",
       "              (dense): RecursiveScriptModule(original_name=Linear)\n",
       "              (LayerNorm): RecursiveScriptModule(original_name=LayerNorm)\n",
       "              (dropout): RecursiveScriptModule(original_name=Dropout)\n",
       "            )\n",
       "          )\n",
       "          (intermediate): RecursiveScriptModule(\n",
       "            original_name=BertIntermediate\n",
       "            (dense): RecursiveScriptModule(original_name=Linear)\n",
       "            (intermediate_act_fn): RecursiveScriptModule(original_name=GELUActivation)\n",
       "          )\n",
       "          (output): RecursiveScriptModule(\n",
       "            original_name=BertOutput\n",
       "            (dense): RecursiveScriptModule(original_name=Linear)\n",
       "            (LayerNorm): RecursiveScriptModule(original_name=LayerNorm)\n",
       "            (dropout): RecursiveScriptModule(original_name=Dropout)\n",
       "          )\n",
       "        )\n",
       "        (7): RecursiveScriptModule(\n",
       "          original_name=BertLayer\n",
       "          (attention): RecursiveScriptModule(\n",
       "            original_name=BertAttention\n",
       "            (self): RecursiveScriptModule(\n",
       "              original_name=BertSelfAttention\n",
       "              (query): RecursiveScriptModule(original_name=Linear)\n",
       "              (key): RecursiveScriptModule(original_name=Linear)\n",
       "              (value): RecursiveScriptModule(original_name=Linear)\n",
       "              (dropout): RecursiveScriptModule(original_name=Dropout)\n",
       "            )\n",
       "            (output): RecursiveScriptModule(\n",
       "              original_name=BertSelfOutput\n",
       "              (dense): RecursiveScriptModule(original_name=Linear)\n",
       "              (LayerNorm): RecursiveScriptModule(original_name=LayerNorm)\n",
       "              (dropout): RecursiveScriptModule(original_name=Dropout)\n",
       "            )\n",
       "          )\n",
       "          (intermediate): RecursiveScriptModule(\n",
       "            original_name=BertIntermediate\n",
       "            (dense): RecursiveScriptModule(original_name=Linear)\n",
       "            (intermediate_act_fn): RecursiveScriptModule(original_name=GELUActivation)\n",
       "          )\n",
       "          (output): RecursiveScriptModule(\n",
       "            original_name=BertOutput\n",
       "            (dense): RecursiveScriptModule(original_name=Linear)\n",
       "            (LayerNorm): RecursiveScriptModule(original_name=LayerNorm)\n",
       "            (dropout): RecursiveScriptModule(original_name=Dropout)\n",
       "          )\n",
       "        )\n",
       "        (8): RecursiveScriptModule(\n",
       "          original_name=BertLayer\n",
       "          (attention): RecursiveScriptModule(\n",
       "            original_name=BertAttention\n",
       "            (self): RecursiveScriptModule(\n",
       "              original_name=BertSelfAttention\n",
       "              (query): RecursiveScriptModule(original_name=Linear)\n",
       "              (key): RecursiveScriptModule(original_name=Linear)\n",
       "              (value): RecursiveScriptModule(original_name=Linear)\n",
       "              (dropout): RecursiveScriptModule(original_name=Dropout)\n",
       "            )\n",
       "            (output): RecursiveScriptModule(\n",
       "              original_name=BertSelfOutput\n",
       "              (dense): RecursiveScriptModule(original_name=Linear)\n",
       "              (LayerNorm): RecursiveScriptModule(original_name=LayerNorm)\n",
       "              (dropout): RecursiveScriptModule(original_name=Dropout)\n",
       "            )\n",
       "          )\n",
       "          (intermediate): RecursiveScriptModule(\n",
       "            original_name=BertIntermediate\n",
       "            (dense): RecursiveScriptModule(original_name=Linear)\n",
       "            (intermediate_act_fn): RecursiveScriptModule(original_name=GELUActivation)\n",
       "          )\n",
       "          (output): RecursiveScriptModule(\n",
       "            original_name=BertOutput\n",
       "            (dense): RecursiveScriptModule(original_name=Linear)\n",
       "            (LayerNorm): RecursiveScriptModule(original_name=LayerNorm)\n",
       "            (dropout): RecursiveScriptModule(original_name=Dropout)\n",
       "          )\n",
       "        )\n",
       "        (9): RecursiveScriptModule(\n",
       "          original_name=BertLayer\n",
       "          (attention): RecursiveScriptModule(\n",
       "            original_name=BertAttention\n",
       "            (self): RecursiveScriptModule(\n",
       "              original_name=BertSelfAttention\n",
       "              (query): RecursiveScriptModule(original_name=Linear)\n",
       "              (key): RecursiveScriptModule(original_name=Linear)\n",
       "              (value): RecursiveScriptModule(original_name=Linear)\n",
       "              (dropout): RecursiveScriptModule(original_name=Dropout)\n",
       "            )\n",
       "            (output): RecursiveScriptModule(\n",
       "              original_name=BertSelfOutput\n",
       "              (dense): RecursiveScriptModule(original_name=Linear)\n",
       "              (LayerNorm): RecursiveScriptModule(original_name=LayerNorm)\n",
       "              (dropout): RecursiveScriptModule(original_name=Dropout)\n",
       "            )\n",
       "          )\n",
       "          (intermediate): RecursiveScriptModule(\n",
       "            original_name=BertIntermediate\n",
       "            (dense): RecursiveScriptModule(original_name=Linear)\n",
       "            (intermediate_act_fn): RecursiveScriptModule(original_name=GELUActivation)\n",
       "          )\n",
       "          (output): RecursiveScriptModule(\n",
       "            original_name=BertOutput\n",
       "            (dense): RecursiveScriptModule(original_name=Linear)\n",
       "            (LayerNorm): RecursiveScriptModule(original_name=LayerNorm)\n",
       "            (dropout): RecursiveScriptModule(original_name=Dropout)\n",
       "          )\n",
       "        )\n",
       "        (10): RecursiveScriptModule(\n",
       "          original_name=BertLayer\n",
       "          (attention): RecursiveScriptModule(\n",
       "            original_name=BertAttention\n",
       "            (self): RecursiveScriptModule(\n",
       "              original_name=BertSelfAttention\n",
       "              (query): RecursiveScriptModule(original_name=Linear)\n",
       "              (key): RecursiveScriptModule(original_name=Linear)\n",
       "              (value): RecursiveScriptModule(original_name=Linear)\n",
       "              (dropout): RecursiveScriptModule(original_name=Dropout)\n",
       "            )\n",
       "            (output): RecursiveScriptModule(\n",
       "              original_name=BertSelfOutput\n",
       "              (dense): RecursiveScriptModule(original_name=Linear)\n",
       "              (LayerNorm): RecursiveScriptModule(original_name=LayerNorm)\n",
       "              (dropout): RecursiveScriptModule(original_name=Dropout)\n",
       "            )\n",
       "          )\n",
       "          (intermediate): RecursiveScriptModule(\n",
       "            original_name=BertIntermediate\n",
       "            (dense): RecursiveScriptModule(original_name=Linear)\n",
       "            (intermediate_act_fn): RecursiveScriptModule(original_name=GELUActivation)\n",
       "          )\n",
       "          (output): RecursiveScriptModule(\n",
       "            original_name=BertOutput\n",
       "            (dense): RecursiveScriptModule(original_name=Linear)\n",
       "            (LayerNorm): RecursiveScriptModule(original_name=LayerNorm)\n",
       "            (dropout): RecursiveScriptModule(original_name=Dropout)\n",
       "          )\n",
       "        )\n",
       "        (11): RecursiveScriptModule(\n",
       "          original_name=BertLayer\n",
       "          (attention): RecursiveScriptModule(\n",
       "            original_name=BertAttention\n",
       "            (self): RecursiveScriptModule(\n",
       "              original_name=BertSelfAttention\n",
       "              (query): RecursiveScriptModule(original_name=Linear)\n",
       "              (key): RecursiveScriptModule(original_name=Linear)\n",
       "              (value): RecursiveScriptModule(original_name=Linear)\n",
       "              (dropout): RecursiveScriptModule(original_name=Dropout)\n",
       "            )\n",
       "            (output): RecursiveScriptModule(\n",
       "              original_name=BertSelfOutput\n",
       "              (dense): RecursiveScriptModule(original_name=Linear)\n",
       "              (LayerNorm): RecursiveScriptModule(original_name=LayerNorm)\n",
       "              (dropout): RecursiveScriptModule(original_name=Dropout)\n",
       "            )\n",
       "          )\n",
       "          (intermediate): RecursiveScriptModule(\n",
       "            original_name=BertIntermediate\n",
       "            (dense): RecursiveScriptModule(original_name=Linear)\n",
       "            (intermediate_act_fn): RecursiveScriptModule(original_name=GELUActivation)\n",
       "          )\n",
       "          (output): RecursiveScriptModule(\n",
       "            original_name=BertOutput\n",
       "            (dense): RecursiveScriptModule(original_name=Linear)\n",
       "            (LayerNorm): RecursiveScriptModule(original_name=LayerNorm)\n",
       "            (dropout): RecursiveScriptModule(original_name=Dropout)\n",
       "          )\n",
       "        )\n",
       "      )\n",
       "    )\n",
       "    (pooler): RecursiveScriptModule(\n",
       "      original_name=BertPooler\n",
       "      (dense): RecursiveScriptModule(original_name=Linear)\n",
       "      (activation): RecursiveScriptModule(original_name=Tanh)\n",
       "    )\n",
       "  )\n",
       "  (dropout): RecursiveScriptModule(original_name=Dropout)\n",
       "  (classifier): RecursiveScriptModule(original_name=Linear)\n",
       ")"
      ]
     },
     "execution_count": 6,
     "metadata": {},
     "output_type": "execute_result"
    }
   ],
   "source": [
    "loaded_model = torch.jit.load(\"nlp_model/traced_bert.pt\")\n",
    "loaded_model.eval()"
   ]
  },
  {
   "cell_type": "code",
   "execution_count": 7,
   "metadata": {
    "collapsed": false
   },
   "outputs": [
    {
     "data": {
      "text/plain": [
       "torch.Size([1, 768])"
      ]
     },
     "execution_count": 7,
     "metadata": {},
     "output_type": "execute_result"
    }
   ],
   "source": [
    "loaded_model(*dummy_input).shape"
   ]
  },
  {
   "cell_type": "code",
   "execution_count": 8,
   "metadata": {
    "collapsed": false
   },
   "outputs": [
    {
     "data": {
      "text/plain": [
       "tensor([[-0.4986, -0.1691,  0.8304,  0.0725, -0.4881, -0.0913,  0.5196,  0.1262,\n",
       "          0.7399, -0.9961]], grad_fn=<SliceBackward0>)"
      ]
     },
     "execution_count": 8,
     "metadata": {},
     "output_type": "execute_result"
    }
   ],
   "source": [
    "loaded_model(*dummy_input)[:, :10]"
   ]
  },
  {
   "cell_type": "code",
   "execution_count": null,
   "metadata": {
    "collapsed": false
   },
   "outputs": [],
   "source": []
  }
 ],
 "metadata": {
  "kernelspec": {
   "display_name": "mynet310",
   "language": "python",
   "name": "python3"
  },
  "language_info": {
   "codemirror_mode": {
    "name": "ipython",
    "version": 3
   },
   "file_extension": ".py",
   "mimetype": "text/x-python",
   "name": "python",
   "nbconvert_exporter": "python",
   "pygments_lexer": "ipython3",
   "version": "3.10.8 (main, Nov 24 2022, 08:09:04) [Clang 14.0.6 ]"
  },
  "vscode": {
   "interpreter": {
    "hash": "5257071dabf8bddc40a63bcf728c0d99adb25068da338be57902ffcde80a2e1e"
   }
  }
 },
 "nbformat": 4,
 "nbformat_minor": 0
}
